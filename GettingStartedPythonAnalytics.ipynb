{
  "nbformat": 4,
  "nbformat_minor": 0,
  "metadata": {
    "colab": {
      "provenance": [],
      "authorship_tag": "ABX9TyPEfgME480F2QycFS2LUdnM",
      "include_colab_link": true
    },
    "kernelspec": {
      "name": "python3",
      "display_name": "Python 3"
    },
    "language_info": {
      "name": "python"
    }
  },
  "cells": [
    {
      "cell_type": "markdown",
      "metadata": {
        "id": "view-in-github",
        "colab_type": "text"
      },
      "source": [
        "<a href=\"https://colab.research.google.com/github/Mjboothaus/getting-started-python/blob/main/GettingStartedPythonAnalytics.ipynb\" target=\"_parent\"><img src=\"https://colab.research.google.com/assets/colab-badge.svg\" alt=\"Open In Colab\"/></a>"
      ]
    },
    {
      "cell_type": "markdown",
      "source": [
        "# Some resources for getting started with Python and analytics\n",
        "\n",
        "## `TL;DR`\n",
        "\n",
        "*Choose one of the options below and have a go!*\n",
        "\n",
        "**Note: At the end of this notebook is some code to demonstrate pulling data from the web and doing introductory exploration.**\n",
        "\n",
        "## Introduction\n",
        "\n",
        "This short document provides a few recommendations for getting started with the Python language and data analytics. I learnt Python when I was 45 (although I have also programmed in Basic, Fortran, C/C++/C#, VBA, Matlab, R). I think Python is a very accessible language and it has a very large package ecosystem to expand on its base functionality (standard libraries).\n",
        "\n",
        "There is **no unique path** to follow - we all learn differently - although I think it is true that most of us learn best by doing i.e. experimenting with code and solving small problems as we go along. Few of us \"get the textbook\" and work systematically through it!\n",
        "\n",
        "Unless otherwise indicated, these resources are available for free (or the courses can be taken for free in \"audit\" mode).\n",
        "\n",
        "There are many other quality free and paid resources available online, however, these are very good starting places.\n",
        "\n",
        "**Happy problem solving and coding - Enjoy!**\n"
      ],
      "metadata": {
        "id": "6cb6gTaBtIEd"
      }
    },
    {
      "cell_type": "markdown",
      "source": [
        "### Author\n",
        "\n",
        "```\n",
        "Dr. Michael J. Booth\n",
        "Founder, DataBooth\n",
        "michael@databooth.com.au\n",
        "```"
      ],
      "metadata": {
        "id": "9qkH2hiox4cK"
      }
    },
    {
      "cell_type": "markdown",
      "source": [
        "## Git a Repository\n",
        "\n",
        "If you're going to write some code, setup a free-tier `git`-based respository to track your work. e.g. [GitHub.com](https://github.com), [GitLab.com](https://gitlab.com) or [BitBucket.org](https://bitbucket.org)."
      ],
      "metadata": {
        "id": "DiTBx6ToP_cf"
      }
    },
    {
      "cell_type": "markdown",
      "source": [
        "## Options\n",
        "\n",
        "So, in no particular order..."
      ],
      "metadata": {
        "id": "9loTU1vl0kWs"
      }
    },
    {
      "cell_type": "markdown",
      "source": [
        "## Google Colaboratory (hosted Jupyter notebooks)\n",
        "\n",
        "That's the platform that this document (notebook) is built with/hosted on. [Jupyter](https://jupyter.org) notebooks are a great/interactive way to learn.\n",
        "Google has plenty of resources to help you learn about using their complimentary, computational notebooks (their free version of Jupyter notebooks).\n",
        "\n",
        "See their excellent introductory overview notebook [here](https://colab.research.google.com/notebooks/intro.ipynb)."
      ],
      "metadata": {
        "id": "4-KeXxXE_F6n"
      }
    },
    {
      "cell_type": "markdown",
      "source": [
        "## Jose Portilla Udemy Courses - Two (low cost) paid options\n",
        "\n",
        "- [2022 Complete Python Bootcamp From Zero to Hero in Python](https://www.udemy.com/course/complete-python-bootcamp/)\n",
        "- [Python for Data Science and Machine Learning Bootcamp](https://www.udemy.com/course/python-for-data-science-and-machine-learning-bootcamp/)\n",
        "\n",
        "I learnt Python from the first of these two courses. Typically you can purchase them on Udemy at significant discount for around AUD $20."
      ],
      "metadata": {
        "id": "IAlmJaMAtweo"
      }
    },
    {
      "cell_type": "markdown",
      "source": [
        "## Replit.com (Game-ified approach)\n",
        "\n",
        "Replit provides a free, on-demand, collaborative, in-browser IDE to code in over 50 languages including Python. Consquently it does not require any explicit setup to get going which makes it a great platform for newbies with a gamified look and feel :)\n",
        "\n",
        "Create an account here [Replit.com](https://replit.com) and choose a Python project to get going.\n",
        "\n",
        "There are some Python specfic tutorials embedded within the learning materials on the platform."
      ],
      "metadata": {
        "id": "sZXaLcBhvYsq"
      }
    },
    {
      "cell_type": "markdown",
      "source": [
        "## IBM courses on Coursera\n",
        "\n",
        "[Python for Data Science, AI & Development](https://www.coursera.org/learn/python-for-applied-data-science-ai) this course can be done as part of a number of specialities - the following two courses look most relevant:\n",
        "- [Data Science Fundamentals with Python and SQL Specialization](https://www.coursera.org/specializations/data-science-fundamentals-python-sql)\n",
        "- [Data Engineering Foundations Specialization](https://www.coursera.org/specializations/data-engineering-foundations)\n",
        "\n",
        "If I'm being completely frank, it seems to me that _Data Engineering_ skills are likely to be in greater demand that _Data Science_ skills moving forward (as tools are attempting to commoditise much of the lower value data \"science\" work) - although there can be significant overlap between the two areas."
      ],
      "metadata": {
        "id": "bDp3dFaktVmm"
      }
    },
    {
      "cell_type": "markdown",
      "source": [
        "## Tinkerstellar and Juno (options for iOS devices)\n",
        "\n",
        "If you own an iPad there are a couple of interesting learning resources. From my testing [Tinkerstellar](https://tinkerstellar.com) and companion app [Juno](https://juno.sh) feel very solid and are elegant - glossy magazine style notebooks.\n",
        "\n",
        "Tinkerstellar is an app that helps you learn coding and data science with interactive tutorials (or labs), where you can edit and run code examples straight away — no need to configure environments, download datasets or rely on networking connection to execute code. Just download a lab, and you’re ready to play around and experiment with code solving real-world problems of computational science 🚀.\n"
      ],
      "metadata": {
        "id": "OWb5PQS0ya1c"
      }
    },
    {
      "cell_type": "markdown",
      "source": [
        "## Articles\n",
        "\n",
        "### [Towards Data Science](https://towardsdatascience.com/about)\n",
        "\n",
        "- [9 Free Quality Resources to Learn and Expand Your Python Skills - Learn Python regardless of your technical background](https://towardsdatascience.com/9-free-quality-resources-to-learn-and-expand-your-python-skills-44e0fe920cf4)\n",
        "\n",
        "### [Medium](https://medium.com)\n",
        "\n",
        "- TODO: Add more references."
      ],
      "metadata": {
        "id": "gipbTOrlICSx"
      }
    },
    {
      "cell_type": "markdown",
      "source": [
        "_p.s. any suggestions, improvements, errors or typos please email me._"
      ],
      "metadata": {
        "id": "U5eG4iL-zr72"
      }
    },
    {
      "cell_type": "markdown",
      "source": [
        "---\n",
        "\n",
        "```\n",
        "\n",
        "```\n",
        "\n",
        "## Now for a simple example of loading, previewing and profiling data\n",
        "\n",
        "Some Python code to load some sample data from [NSW Open Data](https://www.data.nsw.gov.au)."
      ],
      "metadata": {
        "id": "uDUhvNEKAjhP"
      }
    },
    {
      "cell_type": "code",
      "source": [
        "# Sometimes needed to update the pre-installed version of ydata-profiling (formerly pandas-profiling)\n",
        "#\n",
        "# Uncomment line below and run (if needed)\n",
        "#\n",
        "!pip install ydata-profiling\n",
        "!pip install --upgrade Pillow"
      ],
      "metadata": {
        "id": "9hQ8rUrkNJwP"
      },
      "execution_count": null,
      "outputs": []
    },
    {
      "cell_type": "code",
      "source": [
        "import pandas as pd  # Pandas is the usual library for doing structured data analysis\n",
        "try:\n",
        "  from ydata_profiling import ProfileReport\n",
        "except Exception:\n",
        "  print(\"ERROR: See previous cell - need to install ydata-profiling and upgrade Pillow\")"
      ],
      "metadata": {
        "id": "cdVVDR99AiuT"
      },
      "execution_count": null,
      "outputs": []
    },
    {
      "cell_type": "markdown",
      "source": [
        "### Example **PUBLIC** data set\n",
        "\n",
        "[COVID-19 cases by notification date and postcode, local health district, and local government area.csv (Discontinued)](https://data.nsw.gov.au/search/dataset/ds-nsw-ckan-aefcde60-3b0c-4bc0-9af1-6fe652944ec2/distribution/dist-nsw-ckan-21304414-1ff1-4243-a5d2-f52778048b29/details?q=)\n",
        "\n",
        "`TIP:` As far as possible, as good practice, keep real data out of your repository (especially any data with private information)."
      ],
      "metadata": {
        "id": "p7HJVoXMBSMG"
      }
    },
    {
      "cell_type": "code",
      "source": [
        "data_URL = \"https://data.nsw.gov.au/data/dataset/aefcde60-3b0c-4bc0-9af1-6fe652944ec2/resource/21304414-1ff1-4243-a5d2-f52778048b29/download/confirmed_cases_table1_location.csv\""
      ],
      "metadata": {
        "id": "TbRmjG3YBEC1"
      },
      "execution_count": null,
      "outputs": []
    },
    {
      "cell_type": "code",
      "source": [
        "# Look at first 5 lines of .csv data file\n",
        "# Example of using Unix command line from within notebook (note the use of '!' before the actual command)\n",
        "\n",
        "!curl -s $data_URL | head -n 5"
      ],
      "metadata": {
        "id": "Xnc_UsP6Kj8y"
      },
      "execution_count": null,
      "outputs": []
    },
    {
      "cell_type": "code",
      "source": [
        "# Load data into a pandas dataframe\n",
        "\n",
        "data_df = pd.read_csv(data_URL)"
      ],
      "metadata": {
        "id": "8GRAWbqdBcxS"
      },
      "execution_count": null,
      "outputs": []
    },
    {
      "cell_type": "code",
      "source": [
        "data_df.columns.to_list()"
      ],
      "metadata": {
        "id": "bDOyvmvtL0ez"
      },
      "execution_count": null,
      "outputs": []
    },
    {
      "cell_type": "code",
      "source": [
        "data_df.head()"
      ],
      "metadata": {
        "id": "808dayNXBjQs"
      },
      "execution_count": null,
      "outputs": []
    },
    {
      "cell_type": "code",
      "source": [
        "data_df['postcode'].nunique()"
      ],
      "metadata": {
        "id": "27mqtsgTBmB8"
      },
      "execution_count": null,
      "outputs": []
    },
    {
      "cell_type": "code",
      "source": [
        "data_df.describe()"
      ],
      "metadata": {
        "id": "jxFP6no_CMGM"
      },
      "execution_count": null,
      "outputs": []
    },
    {
      "cell_type": "code",
      "source": [
        "data_df.tail(5)"
      ],
      "metadata": {
        "id": "V--URny8CTor"
      },
      "execution_count": null,
      "outputs": []
    },
    {
      "cell_type": "code",
      "source": [
        "data_df.dtypes"
      ],
      "metadata": {
        "id": "LFTADMaACZ38"
      },
      "execution_count": null,
      "outputs": []
    },
    {
      "cell_type": "markdown",
      "source": [
        "### Data Profiling Report\n",
        "\n",
        "[YData Profiling](https://ydata-profiling.ydata.ai/docs/master/index.html) is a handy library for doing initial exploratory data analysis (EDA) on data in a [Pandas dataframe](https://pandas.pydata.org/docs/reference/api/pandas.DataFrame.html).\n",
        "\n",
        "*Uncomment the following line to execute it. It takes ~15-20 seconds to run on this size dataset (progress bars show where the analysis is up to).*"
      ],
      "metadata": {
        "id": "zuq0_tUUMQay"
      }
    },
    {
      "cell_type": "code",
      "source": [
        "ProfileReport(data_df, title=\"Demo: NSW COVID data\", correlations=None)"
      ],
      "metadata": {
        "id": "NT9wBzigKeSA"
      },
      "execution_count": null,
      "outputs": []
    },
    {
      "cell_type": "code",
      "source": [],
      "metadata": {
        "id": "K15VdFL5mFgH"
      },
      "execution_count": null,
      "outputs": []
    }
  ]
}