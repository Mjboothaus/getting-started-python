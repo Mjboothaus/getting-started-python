{
  "nbformat": 4,
  "nbformat_minor": 0,
  "metadata": {
    "colab": {
      "provenance": [],
      "collapsed_sections": [],
      "authorship_tag": "ABX9TyNsjLudsfg315EV7QOxku09",
      "include_colab_link": true
    },
    "kernelspec": {
      "name": "python3",
      "display_name": "Python 3"
    },
    "language_info": {
      "name": "python"
    }
  },
  "cells": [
    {
      "cell_type": "markdown",
      "metadata": {
        "id": "view-in-github",
        "colab_type": "text"
      },
      "source": [
        "<a href=\"https://colab.research.google.com/github/Mjboothaus/getting-started-python/blob/main/GettingStartedPythonAnalytics.ipynb\" target=\"_parent\"><img src=\"https://colab.research.google.com/assets/colab-badge.svg\" alt=\"Open In Colab\"/></a>"
      ]
    },
    {
      "cell_type": "markdown",
      "source": [
        "# DataBooth - Some resources for getting started with Python and Analytics\n",
        "\n",
        "This short document provides a few recommendations for getting started with the Python language and data analytics.\n",
        "\n",
        "There is **no unique path** to follow - we all learn differently - although I think it is true that most of us learn best by doing i.e. experimenting with code and solving small problems as we go along. Few of us \"get the textbook\" and work systematically through it!\n",
        "\n",
        "Unless otherwise indicated, these resources are available for free (or the courses can be taken for free in \"audit\" mode).\n",
        "\n",
        "There are many other quality free and paid resources available online, however, these are very good starting places. **Happy problem solving and coding - Enjoy!**\n"
      ],
      "metadata": {
        "id": "6cb6gTaBtIEd"
      }
    },
    {
      "cell_type": "markdown",
      "source": [
        "In no particular order..."
      ],
      "metadata": {
        "id": "9loTU1vl0kWs"
      }
    },
    {
      "cell_type": "markdown",
      "source": [
        "## Google Colaboratory\n",
        "\n",
        "That's the platform that this document is hosted on.\n",
        "Google has plenty of resources to help you learn about using their complimentary, computational notebooks (their version of [Jupyter](https://jupyter.org) notebooks).\n",
        "\n",
        "See their excellent introductory overview notebook [here](https://colab.research.google.com/notebooks/intro.ipynb)."
      ],
      "metadata": {
        "id": "4-KeXxXE_F6n"
      }
    },
    {
      "cell_type": "markdown",
      "source": [
        "## IBM courses on Coursera\n",
        "\n",
        "[Python for Data Science, AI & Development](https://www.coursera.org/learn/python-for-applied-data-science-ai) this course can be done as part of a number of specialities - the following 2 look most relevant:\n",
        "- [Data Science Fundamentals with Python and SQL Specialization](https://www.coursera.org/specializations/data-science-fundamentals-python-sql)\n",
        "- [Data Engineering Foundations Specialization](https://www.coursera.org/specializations/data-engineering-foundations)\n",
        "\n",
        "If I'm being completely frank, it seems to me that _Data Engineering_ skills are likely to be in great demand that _Data Science_ skills moving forward - although there can be significant overlap between the two areas."
      ],
      "metadata": {
        "id": "bDp3dFaktVmm"
      }
    },
    {
      "cell_type": "markdown",
      "source": [
        "## Replit.com\n",
        "\n",
        "Replit provides a free, on-demand, collaborative, in-browser IDE to code in over 50 languages. Consquently it does not require any explicit setup to get going which makes it a great platform for newbies with a gamified look and feel :)\n",
        "\n",
        "Create an account here [Replit.com](https://replit.com) and choose a Python project to get going.\n",
        "\n",
        "There are some Python specfic tutorials embedded within the learning materials on the platform."
      ],
      "metadata": {
        "id": "sZXaLcBhvYsq"
      }
    },
    {
      "cell_type": "markdown",
      "source": [
        "## Two (low cost) paid options - Jose Portilla Udemy Courses\n",
        "\n",
        "- [2022 Complete Python Bootcamp From Zero to Hero in Python](https://www.udemy.com/course/complete-python-bootcamp/)\n",
        "- [Python for Data Science and Machine Learning Bootcamp](https://www.udemy.com/course/python-for-data-science-and-machine-learning-bootcamp/)\n",
        "\n",
        "I learnt Python from the first of these two courses. Typically you can purchase them on Udemy at significant discount for around AUD $20."
      ],
      "metadata": {
        "id": "IAlmJaMAtweo"
      }
    },
    {
      "cell_type": "markdown",
      "source": [
        "## Tinkerstellar (iPad option)\n",
        "\n",
        "If you own an iPad there are some (fairly) new, still in beta, and interesting learning resources. From my testing they feel very solid and are elegant - bit like a glossy magazine style using [Jupyter](https://jupyter.org/) notebooks.\n",
        "\n",
        "Tinkerstellar is an iPad app that helps you learn coding and data science with interactive tutorials (or labs), where you can edit and run code examples straight away — no need to configure environments, download datasets or rely on networking connection to execute code. Just download a lab, and you’re ready to play around and experiment with code solving real-world problems of computational science 🚀.\n",
        "\n"
      ],
      "metadata": {
        "id": "OWb5PQS0ya1c"
      }
    },
    {
      "cell_type": "markdown",
      "source": [
        "Dr. Michael J. Booth\n",
        "\n",
        "Founder, DataBooth\n",
        "\n",
        "michael@databooth.com.au"
      ],
      "metadata": {
        "id": "9qkH2hiox4cK"
      }
    },
    {
      "cell_type": "markdown",
      "source": [
        "_p.s. any errors/typos please email me._"
      ],
      "metadata": {
        "id": "U5eG4iL-zr72"
      }
    },
    {
      "cell_type": "markdown",
      "source": [
        "## Simple example - Loading / Preview of data \n",
        "\n",
        "Some Python code to load some data from NSW Open Data"
      ],
      "metadata": {
        "id": "uDUhvNEKAjhP"
      }
    },
    {
      "cell_type": "code",
      "source": [
        "import pandas as pd  # Pandas is the usual library for doing structured data analysis"
      ],
      "metadata": {
        "id": "cdVVDR99AiuT"
      },
      "execution_count": null,
      "outputs": []
    },
    {
      "cell_type": "markdown",
      "source": [
        "Example data set from NSW Open Data website\n",
        "\n",
        "[https://data.nsw.gov.au/search/dataset/ds-nsw-ckan-aefcde60-3b0c-4bc0-9af1-6fe652944ec2/distribution/dist-nsw-ckan-21304414-1ff1-4243-a5d2-f52778048b29/details?q=](https://data.nsw.gov.au/search/dataset/ds-nsw-ckan-aefcde60-3b0c-4bc0-9af1-6fe652944ec2/distribution/dist-nsw-ckan-21304414-1ff1-4243-a5d2-f52778048b29/details?q=)"
      ],
      "metadata": {
        "id": "p7HJVoXMBSMG"
      }
    },
    {
      "cell_type": "code",
      "source": [
        "data_URL = \"https://data.nsw.gov.au/data/dataset/aefcde60-3b0c-4bc0-9af1-6fe652944ec2/resource/21304414-1ff1-4243-a5d2-f52778048b29/download/confirmed_cases_table1_location.csv\""
      ],
      "metadata": {
        "id": "TbRmjG3YBEC1"
      },
      "execution_count": null,
      "outputs": []
    },
    {
      "cell_type": "code",
      "source": [
        "data_df = pd.read_csv(data_URL)"
      ],
      "metadata": {
        "id": "8GRAWbqdBcxS"
      },
      "execution_count": null,
      "outputs": []
    },
    {
      "cell_type": "code",
      "source": [
        "data_df.head()"
      ],
      "metadata": {
        "colab": {
          "base_uri": "https://localhost:8080/",
          "height": 206
        },
        "id": "808dayNXBjQs",
        "outputId": "16d2f0e2-5bf1-4b8f-b1b3-1a4a0370c82a"
      },
      "execution_count": null,
      "outputs": [
        {
          "output_type": "execute_result",
          "data": {
            "text/html": [
              "\n",
              "  <div id=\"df-718b3a08-c42e-45c9-9146-0b4ee16cc678\">\n",
              "    <div class=\"colab-df-container\">\n",
              "      <div>\n",
              "<style scoped>\n",
              "    .dataframe tbody tr th:only-of-type {\n",
              "        vertical-align: middle;\n",
              "    }\n",
              "\n",
              "    .dataframe tbody tr th {\n",
              "        vertical-align: top;\n",
              "    }\n",
              "\n",
              "    .dataframe thead th {\n",
              "        text-align: right;\n",
              "    }\n",
              "</style>\n",
              "<table border=\"1\" class=\"dataframe\">\n",
              "  <thead>\n",
              "    <tr style=\"text-align: right;\">\n",
              "      <th></th>\n",
              "      <th>notification_date</th>\n",
              "      <th>postcode</th>\n",
              "      <th>lhd_2010_code</th>\n",
              "      <th>lhd_2010_name</th>\n",
              "      <th>lga_code19</th>\n",
              "      <th>lga_name19</th>\n",
              "    </tr>\n",
              "  </thead>\n",
              "  <tbody>\n",
              "    <tr>\n",
              "      <th>0</th>\n",
              "      <td>2020-01-25</td>\n",
              "      <td>2071</td>\n",
              "      <td>X760</td>\n",
              "      <td>Northern Sydney</td>\n",
              "      <td>14500</td>\n",
              "      <td>Ku-ring-gai (A)</td>\n",
              "    </tr>\n",
              "    <tr>\n",
              "      <th>1</th>\n",
              "      <td>2020-01-25</td>\n",
              "      <td>2134</td>\n",
              "      <td>X700</td>\n",
              "      <td>Sydney</td>\n",
              "      <td>11300</td>\n",
              "      <td>Burwood (A)</td>\n",
              "    </tr>\n",
              "    <tr>\n",
              "      <th>2</th>\n",
              "      <td>2020-01-25</td>\n",
              "      <td>2121</td>\n",
              "      <td>X760</td>\n",
              "      <td>Northern Sydney</td>\n",
              "      <td>16260</td>\n",
              "      <td>Parramatta (C)</td>\n",
              "    </tr>\n",
              "    <tr>\n",
              "      <th>3</th>\n",
              "      <td>2020-01-27</td>\n",
              "      <td>2033</td>\n",
              "      <td>X720</td>\n",
              "      <td>South Eastern Sydney</td>\n",
              "      <td>16550</td>\n",
              "      <td>Randwick (C)</td>\n",
              "    </tr>\n",
              "    <tr>\n",
              "      <th>4</th>\n",
              "      <td>2020-03-01</td>\n",
              "      <td>2163</td>\n",
              "      <td>X710</td>\n",
              "      <td>South Western Sydney</td>\n",
              "      <td>12850</td>\n",
              "      <td>Fairfield (C)</td>\n",
              "    </tr>\n",
              "  </tbody>\n",
              "</table>\n",
              "</div>\n",
              "      <button class=\"colab-df-convert\" onclick=\"convertToInteractive('df-718b3a08-c42e-45c9-9146-0b4ee16cc678')\"\n",
              "              title=\"Convert this dataframe to an interactive table.\"\n",
              "              style=\"display:none;\">\n",
              "        \n",
              "  <svg xmlns=\"http://www.w3.org/2000/svg\" height=\"24px\"viewBox=\"0 0 24 24\"\n",
              "       width=\"24px\">\n",
              "    <path d=\"M0 0h24v24H0V0z\" fill=\"none\"/>\n",
              "    <path d=\"M18.56 5.44l.94 2.06.94-2.06 2.06-.94-2.06-.94-.94-2.06-.94 2.06-2.06.94zm-11 1L8.5 8.5l.94-2.06 2.06-.94-2.06-.94L8.5 2.5l-.94 2.06-2.06.94zm10 10l.94 2.06.94-2.06 2.06-.94-2.06-.94-.94-2.06-.94 2.06-2.06.94z\"/><path d=\"M17.41 7.96l-1.37-1.37c-.4-.4-.92-.59-1.43-.59-.52 0-1.04.2-1.43.59L10.3 9.45l-7.72 7.72c-.78.78-.78 2.05 0 2.83L4 21.41c.39.39.9.59 1.41.59.51 0 1.02-.2 1.41-.59l7.78-7.78 2.81-2.81c.8-.78.8-2.07 0-2.86zM5.41 20L4 18.59l7.72-7.72 1.47 1.35L5.41 20z\"/>\n",
              "  </svg>\n",
              "      </button>\n",
              "      \n",
              "  <style>\n",
              "    .colab-df-container {\n",
              "      display:flex;\n",
              "      flex-wrap:wrap;\n",
              "      gap: 12px;\n",
              "    }\n",
              "\n",
              "    .colab-df-convert {\n",
              "      background-color: #E8F0FE;\n",
              "      border: none;\n",
              "      border-radius: 50%;\n",
              "      cursor: pointer;\n",
              "      display: none;\n",
              "      fill: #1967D2;\n",
              "      height: 32px;\n",
              "      padding: 0 0 0 0;\n",
              "      width: 32px;\n",
              "    }\n",
              "\n",
              "    .colab-df-convert:hover {\n",
              "      background-color: #E2EBFA;\n",
              "      box-shadow: 0px 1px 2px rgba(60, 64, 67, 0.3), 0px 1px 3px 1px rgba(60, 64, 67, 0.15);\n",
              "      fill: #174EA6;\n",
              "    }\n",
              "\n",
              "    [theme=dark] .colab-df-convert {\n",
              "      background-color: #3B4455;\n",
              "      fill: #D2E3FC;\n",
              "    }\n",
              "\n",
              "    [theme=dark] .colab-df-convert:hover {\n",
              "      background-color: #434B5C;\n",
              "      box-shadow: 0px 1px 3px 1px rgba(0, 0, 0, 0.15);\n",
              "      filter: drop-shadow(0px 1px 2px rgba(0, 0, 0, 0.3));\n",
              "      fill: #FFFFFF;\n",
              "    }\n",
              "  </style>\n",
              "\n",
              "      <script>\n",
              "        const buttonEl =\n",
              "          document.querySelector('#df-718b3a08-c42e-45c9-9146-0b4ee16cc678 button.colab-df-convert');\n",
              "        buttonEl.style.display =\n",
              "          google.colab.kernel.accessAllowed ? 'block' : 'none';\n",
              "\n",
              "        async function convertToInteractive(key) {\n",
              "          const element = document.querySelector('#df-718b3a08-c42e-45c9-9146-0b4ee16cc678');\n",
              "          const dataTable =\n",
              "            await google.colab.kernel.invokeFunction('convertToInteractive',\n",
              "                                                     [key], {});\n",
              "          if (!dataTable) return;\n",
              "\n",
              "          const docLinkHtml = 'Like what you see? Visit the ' +\n",
              "            '<a target=\"_blank\" href=https://colab.research.google.com/notebooks/data_table.ipynb>data table notebook</a>'\n",
              "            + ' to learn more about interactive tables.';\n",
              "          element.innerHTML = '';\n",
              "          dataTable['output_type'] = 'display_data';\n",
              "          await google.colab.output.renderOutput(dataTable, element);\n",
              "          const docLink = document.createElement('div');\n",
              "          docLink.innerHTML = docLinkHtml;\n",
              "          element.appendChild(docLink);\n",
              "        }\n",
              "      </script>\n",
              "    </div>\n",
              "  </div>\n",
              "  "
            ],
            "text/plain": [
              "  notification_date postcode  ... lga_code19       lga_name19\n",
              "0        2020-01-25     2071  ...      14500  Ku-ring-gai (A)\n",
              "1        2020-01-25     2134  ...      11300      Burwood (A)\n",
              "2        2020-01-25     2121  ...      16260   Parramatta (C)\n",
              "3        2020-01-27     2033  ...      16550     Randwick (C)\n",
              "4        2020-03-01     2163  ...      12850    Fairfield (C)\n",
              "\n",
              "[5 rows x 6 columns]"
            ]
          },
          "metadata": {},
          "execution_count": 4
        }
      ]
    },
    {
      "cell_type": "code",
      "source": [
        "data_df['postcode'].nunique()"
      ],
      "metadata": {
        "colab": {
          "base_uri": "https://localhost:8080/"
        },
        "id": "27mqtsgTBmB8",
        "outputId": "ca7a8426-e9fb-433a-84ab-3c6cfe3c1f02"
      },
      "execution_count": null,
      "outputs": [
        {
          "output_type": "execute_result",
          "data": {
            "text/plain": [
              "585"
            ]
          },
          "metadata": {},
          "execution_count": 10
        }
      ]
    },
    {
      "cell_type": "code",
      "source": [
        "data_df.describe()"
      ],
      "metadata": {
        "colab": {
          "base_uri": "https://localhost:8080/",
          "height": 218
        },
        "id": "jxFP6no_CMGM",
        "outputId": "0f1181d4-92a0-476f-fd38-97d34f4f96b4"
      },
      "execution_count": null,
      "outputs": [
        {
          "output_type": "execute_result",
          "data": {
            "text/html": [
              "\n",
              "  <div id=\"df-982d6537-2995-4808-a9fd-d32b6d3c496d\">\n",
              "    <div class=\"colab-df-container\">\n",
              "      <div>\n",
              "<style scoped>\n",
              "    .dataframe tbody tr th:only-of-type {\n",
              "        vertical-align: middle;\n",
              "    }\n",
              "\n",
              "    .dataframe tbody tr th {\n",
              "        vertical-align: top;\n",
              "    }\n",
              "\n",
              "    .dataframe thead th {\n",
              "        text-align: right;\n",
              "    }\n",
              "</style>\n",
              "<table border=\"1\" class=\"dataframe\">\n",
              "  <thead>\n",
              "    <tr style=\"text-align: right;\">\n",
              "      <th></th>\n",
              "      <th>notification_date</th>\n",
              "      <th>postcode</th>\n",
              "      <th>lhd_2010_code</th>\n",
              "      <th>lhd_2010_name</th>\n",
              "      <th>lga_code19</th>\n",
              "      <th>lga_name19</th>\n",
              "    </tr>\n",
              "  </thead>\n",
              "  <tbody>\n",
              "    <tr>\n",
              "      <th>count</th>\n",
              "      <td>112307</td>\n",
              "      <td>112307</td>\n",
              "      <td>111120</td>\n",
              "      <td>111120</td>\n",
              "      <td>111118</td>\n",
              "      <td>111118</td>\n",
              "    </tr>\n",
              "    <tr>\n",
              "      <th>unique</th>\n",
              "      <td>639</td>\n",
              "      <td>585</td>\n",
              "      <td>17</td>\n",
              "      <td>17</td>\n",
              "      <td>127</td>\n",
              "      <td>127</td>\n",
              "    </tr>\n",
              "    <tr>\n",
              "      <th>top</th>\n",
              "      <td>2021-12-22</td>\n",
              "      <td>2170</td>\n",
              "      <td>X710</td>\n",
              "      <td>South Western Sydney</td>\n",
              "      <td>11570</td>\n",
              "      <td>Canterbury-Bankstown (A)</td>\n",
              "    </tr>\n",
              "    <tr>\n",
              "      <th>freq</th>\n",
              "      <td>4890</td>\n",
              "      <td>3416</td>\n",
              "      <td>27419</td>\n",
              "      <td>27419</td>\n",
              "      <td>14598</td>\n",
              "      <td>14598</td>\n",
              "    </tr>\n",
              "  </tbody>\n",
              "</table>\n",
              "</div>\n",
              "      <button class=\"colab-df-convert\" onclick=\"convertToInteractive('df-982d6537-2995-4808-a9fd-d32b6d3c496d')\"\n",
              "              title=\"Convert this dataframe to an interactive table.\"\n",
              "              style=\"display:none;\">\n",
              "        \n",
              "  <svg xmlns=\"http://www.w3.org/2000/svg\" height=\"24px\"viewBox=\"0 0 24 24\"\n",
              "       width=\"24px\">\n",
              "    <path d=\"M0 0h24v24H0V0z\" fill=\"none\"/>\n",
              "    <path d=\"M18.56 5.44l.94 2.06.94-2.06 2.06-.94-2.06-.94-.94-2.06-.94 2.06-2.06.94zm-11 1L8.5 8.5l.94-2.06 2.06-.94-2.06-.94L8.5 2.5l-.94 2.06-2.06.94zm10 10l.94 2.06.94-2.06 2.06-.94-2.06-.94-.94-2.06-.94 2.06-2.06.94z\"/><path d=\"M17.41 7.96l-1.37-1.37c-.4-.4-.92-.59-1.43-.59-.52 0-1.04.2-1.43.59L10.3 9.45l-7.72 7.72c-.78.78-.78 2.05 0 2.83L4 21.41c.39.39.9.59 1.41.59.51 0 1.02-.2 1.41-.59l7.78-7.78 2.81-2.81c.8-.78.8-2.07 0-2.86zM5.41 20L4 18.59l7.72-7.72 1.47 1.35L5.41 20z\"/>\n",
              "  </svg>\n",
              "      </button>\n",
              "      \n",
              "  <style>\n",
              "    .colab-df-container {\n",
              "      display:flex;\n",
              "      flex-wrap:wrap;\n",
              "      gap: 12px;\n",
              "    }\n",
              "\n",
              "    .colab-df-convert {\n",
              "      background-color: #E8F0FE;\n",
              "      border: none;\n",
              "      border-radius: 50%;\n",
              "      cursor: pointer;\n",
              "      display: none;\n",
              "      fill: #1967D2;\n",
              "      height: 32px;\n",
              "      padding: 0 0 0 0;\n",
              "      width: 32px;\n",
              "    }\n",
              "\n",
              "    .colab-df-convert:hover {\n",
              "      background-color: #E2EBFA;\n",
              "      box-shadow: 0px 1px 2px rgba(60, 64, 67, 0.3), 0px 1px 3px 1px rgba(60, 64, 67, 0.15);\n",
              "      fill: #174EA6;\n",
              "    }\n",
              "\n",
              "    [theme=dark] .colab-df-convert {\n",
              "      background-color: #3B4455;\n",
              "      fill: #D2E3FC;\n",
              "    }\n",
              "\n",
              "    [theme=dark] .colab-df-convert:hover {\n",
              "      background-color: #434B5C;\n",
              "      box-shadow: 0px 1px 3px 1px rgba(0, 0, 0, 0.15);\n",
              "      filter: drop-shadow(0px 1px 2px rgba(0, 0, 0, 0.3));\n",
              "      fill: #FFFFFF;\n",
              "    }\n",
              "  </style>\n",
              "\n",
              "      <script>\n",
              "        const buttonEl =\n",
              "          document.querySelector('#df-982d6537-2995-4808-a9fd-d32b6d3c496d button.colab-df-convert');\n",
              "        buttonEl.style.display =\n",
              "          google.colab.kernel.accessAllowed ? 'block' : 'none';\n",
              "\n",
              "        async function convertToInteractive(key) {\n",
              "          const element = document.querySelector('#df-982d6537-2995-4808-a9fd-d32b6d3c496d');\n",
              "          const dataTable =\n",
              "            await google.colab.kernel.invokeFunction('convertToInteractive',\n",
              "                                                     [key], {});\n",
              "          if (!dataTable) return;\n",
              "\n",
              "          const docLinkHtml = 'Like what you see? Visit the ' +\n",
              "            '<a target=\"_blank\" href=https://colab.research.google.com/notebooks/data_table.ipynb>data table notebook</a>'\n",
              "            + ' to learn more about interactive tables.';\n",
              "          element.innerHTML = '';\n",
              "          dataTable['output_type'] = 'display_data';\n",
              "          await google.colab.output.renderOutput(dataTable, element);\n",
              "          const docLink = document.createElement('div');\n",
              "          docLink.innerHTML = docLinkHtml;\n",
              "          element.appendChild(docLink);\n",
              "        }\n",
              "      </script>\n",
              "    </div>\n",
              "  </div>\n",
              "  "
            ],
            "text/plain": [
              "       notification_date postcode  ... lga_code19                lga_name19\n",
              "count             112307   112307  ...     111118                    111118\n",
              "unique               639      585  ...        127                       127\n",
              "top           2021-12-22     2170  ...      11570  Canterbury-Bankstown (A)\n",
              "freq                4890     3416  ...      14598                     14598\n",
              "\n",
              "[4 rows x 6 columns]"
            ]
          },
          "metadata": {},
          "execution_count": 12
        }
      ]
    },
    {
      "cell_type": "code",
      "source": [
        "data_df.tail(7)"
      ],
      "metadata": {
        "colab": {
          "base_uri": "https://localhost:8080/",
          "height": 269
        },
        "id": "V--URny8CTor",
        "outputId": "15a4d7c9-57bc-4fff-b204-14d08750fc6b"
      },
      "execution_count": null,
      "outputs": [
        {
          "output_type": "execute_result",
          "data": {
            "text/html": [
              "\n",
              "  <div id=\"df-7d821966-d519-469c-8fc6-9cb42834efbe\">\n",
              "    <div class=\"colab-df-container\">\n",
              "      <div>\n",
              "<style scoped>\n",
              "    .dataframe tbody tr th:only-of-type {\n",
              "        vertical-align: middle;\n",
              "    }\n",
              "\n",
              "    .dataframe tbody tr th {\n",
              "        vertical-align: top;\n",
              "    }\n",
              "\n",
              "    .dataframe thead th {\n",
              "        text-align: right;\n",
              "    }\n",
              "</style>\n",
              "<table border=\"1\" class=\"dataframe\">\n",
              "  <thead>\n",
              "    <tr style=\"text-align: right;\">\n",
              "      <th></th>\n",
              "      <th>notification_date</th>\n",
              "      <th>postcode</th>\n",
              "      <th>lhd_2010_code</th>\n",
              "      <th>lhd_2010_name</th>\n",
              "      <th>lga_code19</th>\n",
              "      <th>lga_name19</th>\n",
              "    </tr>\n",
              "  </thead>\n",
              "  <tbody>\n",
              "    <tr>\n",
              "      <th>112300</th>\n",
              "      <td>2021-12-22</td>\n",
              "      <td>2165</td>\n",
              "      <td>X710</td>\n",
              "      <td>South Western Sydney</td>\n",
              "      <td>12850</td>\n",
              "      <td>Fairfield (C)</td>\n",
              "    </tr>\n",
              "    <tr>\n",
              "      <th>112301</th>\n",
              "      <td>2021-12-22</td>\n",
              "      <td>2298</td>\n",
              "      <td>X800</td>\n",
              "      <td>Hunter New England</td>\n",
              "      <td>15900</td>\n",
              "      <td>Newcastle (C)</td>\n",
              "    </tr>\n",
              "    <tr>\n",
              "      <th>112302</th>\n",
              "      <td>2021-12-22</td>\n",
              "      <td>2031</td>\n",
              "      <td>X720</td>\n",
              "      <td>South Eastern Sydney</td>\n",
              "      <td>16550</td>\n",
              "      <td>Randwick (C)</td>\n",
              "    </tr>\n",
              "    <tr>\n",
              "      <th>112303</th>\n",
              "      <td>2021-12-22</td>\n",
              "      <td>2290</td>\n",
              "      <td>X800</td>\n",
              "      <td>Hunter New England</td>\n",
              "      <td>14650</td>\n",
              "      <td>Lake Macquarie (C)</td>\n",
              "    </tr>\n",
              "    <tr>\n",
              "      <th>112304</th>\n",
              "      <td>2021-12-22</td>\n",
              "      <td>2046</td>\n",
              "      <td>X700</td>\n",
              "      <td>Sydney</td>\n",
              "      <td>11520</td>\n",
              "      <td>Canada Bay (A)</td>\n",
              "    </tr>\n",
              "    <tr>\n",
              "      <th>112305</th>\n",
              "      <td>2021-12-22</td>\n",
              "      <td>2170</td>\n",
              "      <td>X710</td>\n",
              "      <td>South Western Sydney</td>\n",
              "      <td>14900</td>\n",
              "      <td>Liverpool (C)</td>\n",
              "    </tr>\n",
              "    <tr>\n",
              "      <th>112306</th>\n",
              "      <td>2021-12-22</td>\n",
              "      <td>2763</td>\n",
              "      <td>X740</td>\n",
              "      <td>Western Sydney</td>\n",
              "      <td>10750</td>\n",
              "      <td>Blacktown (C)</td>\n",
              "    </tr>\n",
              "  </tbody>\n",
              "</table>\n",
              "</div>\n",
              "      <button class=\"colab-df-convert\" onclick=\"convertToInteractive('df-7d821966-d519-469c-8fc6-9cb42834efbe')\"\n",
              "              title=\"Convert this dataframe to an interactive table.\"\n",
              "              style=\"display:none;\">\n",
              "        \n",
              "  <svg xmlns=\"http://www.w3.org/2000/svg\" height=\"24px\"viewBox=\"0 0 24 24\"\n",
              "       width=\"24px\">\n",
              "    <path d=\"M0 0h24v24H0V0z\" fill=\"none\"/>\n",
              "    <path d=\"M18.56 5.44l.94 2.06.94-2.06 2.06-.94-2.06-.94-.94-2.06-.94 2.06-2.06.94zm-11 1L8.5 8.5l.94-2.06 2.06-.94-2.06-.94L8.5 2.5l-.94 2.06-2.06.94zm10 10l.94 2.06.94-2.06 2.06-.94-2.06-.94-.94-2.06-.94 2.06-2.06.94z\"/><path d=\"M17.41 7.96l-1.37-1.37c-.4-.4-.92-.59-1.43-.59-.52 0-1.04.2-1.43.59L10.3 9.45l-7.72 7.72c-.78.78-.78 2.05 0 2.83L4 21.41c.39.39.9.59 1.41.59.51 0 1.02-.2 1.41-.59l7.78-7.78 2.81-2.81c.8-.78.8-2.07 0-2.86zM5.41 20L4 18.59l7.72-7.72 1.47 1.35L5.41 20z\"/>\n",
              "  </svg>\n",
              "      </button>\n",
              "      \n",
              "  <style>\n",
              "    .colab-df-container {\n",
              "      display:flex;\n",
              "      flex-wrap:wrap;\n",
              "      gap: 12px;\n",
              "    }\n",
              "\n",
              "    .colab-df-convert {\n",
              "      background-color: #E8F0FE;\n",
              "      border: none;\n",
              "      border-radius: 50%;\n",
              "      cursor: pointer;\n",
              "      display: none;\n",
              "      fill: #1967D2;\n",
              "      height: 32px;\n",
              "      padding: 0 0 0 0;\n",
              "      width: 32px;\n",
              "    }\n",
              "\n",
              "    .colab-df-convert:hover {\n",
              "      background-color: #E2EBFA;\n",
              "      box-shadow: 0px 1px 2px rgba(60, 64, 67, 0.3), 0px 1px 3px 1px rgba(60, 64, 67, 0.15);\n",
              "      fill: #174EA6;\n",
              "    }\n",
              "\n",
              "    [theme=dark] .colab-df-convert {\n",
              "      background-color: #3B4455;\n",
              "      fill: #D2E3FC;\n",
              "    }\n",
              "\n",
              "    [theme=dark] .colab-df-convert:hover {\n",
              "      background-color: #434B5C;\n",
              "      box-shadow: 0px 1px 3px 1px rgba(0, 0, 0, 0.15);\n",
              "      filter: drop-shadow(0px 1px 2px rgba(0, 0, 0, 0.3));\n",
              "      fill: #FFFFFF;\n",
              "    }\n",
              "  </style>\n",
              "\n",
              "      <script>\n",
              "        const buttonEl =\n",
              "          document.querySelector('#df-7d821966-d519-469c-8fc6-9cb42834efbe button.colab-df-convert');\n",
              "        buttonEl.style.display =\n",
              "          google.colab.kernel.accessAllowed ? 'block' : 'none';\n",
              "\n",
              "        async function convertToInteractive(key) {\n",
              "          const element = document.querySelector('#df-7d821966-d519-469c-8fc6-9cb42834efbe');\n",
              "          const dataTable =\n",
              "            await google.colab.kernel.invokeFunction('convertToInteractive',\n",
              "                                                     [key], {});\n",
              "          if (!dataTable) return;\n",
              "\n",
              "          const docLinkHtml = 'Like what you see? Visit the ' +\n",
              "            '<a target=\"_blank\" href=https://colab.research.google.com/notebooks/data_table.ipynb>data table notebook</a>'\n",
              "            + ' to learn more about interactive tables.';\n",
              "          element.innerHTML = '';\n",
              "          dataTable['output_type'] = 'display_data';\n",
              "          await google.colab.output.renderOutput(dataTable, element);\n",
              "          const docLink = document.createElement('div');\n",
              "          docLink.innerHTML = docLinkHtml;\n",
              "          element.appendChild(docLink);\n",
              "        }\n",
              "      </script>\n",
              "    </div>\n",
              "  </div>\n",
              "  "
            ],
            "text/plain": [
              "       notification_date postcode  ... lga_code19          lga_name19\n",
              "112300        2021-12-22     2165  ...      12850       Fairfield (C)\n",
              "112301        2021-12-22     2298  ...      15900       Newcastle (C)\n",
              "112302        2021-12-22     2031  ...      16550        Randwick (C)\n",
              "112303        2021-12-22     2290  ...      14650  Lake Macquarie (C)\n",
              "112304        2021-12-22     2046  ...      11520      Canada Bay (A)\n",
              "112305        2021-12-22     2170  ...      14900       Liverpool (C)\n",
              "112306        2021-12-22     2763  ...      10750       Blacktown (C)\n",
              "\n",
              "[7 rows x 6 columns]"
            ]
          },
          "metadata": {},
          "execution_count": 13
        }
      ]
    },
    {
      "cell_type": "code",
      "source": [],
      "metadata": {
        "id": "LFTADMaACZ38"
      },
      "execution_count": null,
      "outputs": []
    }
  ]
}