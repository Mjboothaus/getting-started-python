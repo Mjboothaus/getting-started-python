{
  "nbformat": 4,
  "nbformat_minor": 0,
  "metadata": {
    "colab": {
      "provenance": [],
      "collapsed_sections": [],
      "authorship_tag": "ABX9TyP43Sfwv2weJtghR2b35Tdx",
      "include_colab_link": true
    },
    "kernelspec": {
      "name": "python3",
      "display_name": "Python 3"
    },
    "language_info": {
      "name": "python"
    }
  },
  "cells": [
    {
      "cell_type": "markdown",
      "metadata": {
        "id": "view-in-github",
        "colab_type": "text"
      },
      "source": [
        "<a href=\"https://colab.research.google.com/github/Mjboothaus/getting-started-python/blob/main/GettingStartedPythonAnalytics.ipynb\" target=\"_parent\"><img src=\"https://colab.research.google.com/assets/colab-badge.svg\" alt=\"Open In Colab\"/></a>"
      ]
    },
    {
      "cell_type": "markdown",
      "source": [
        "# Some resources for getting started with Python and analytics\n",
        "\n",
        "## `TL;DR` \n",
        "\n",
        "*Choose one of the options below and have a go!*\n",
        "\n",
        "**Note: At the end of this notebook is some code to demonstrate pulling data from the web and doing introductory exploration.**\n",
        "\n",
        "## Introduction\n",
        "\n",
        "This short document provides a few recommendations for getting started with the Python language and data analytics. I learnt Python when I was 45 (although I have also programmed in Basic, Fortran, C/C++/C#, VBA, Matlab, R). I think Python is a very accessible language and it has a very large package ecosystem to expand on its base functionality (standard libraries).\n",
        "\n",
        "There is **no unique path** to follow - we all learn differently - although I think it is true that most of us learn best by doing i.e. experimenting with code and solving small problems as we go along. Few of us \"get the textbook\" and work systematically through it!\n",
        "\n",
        "Unless otherwise indicated, these resources are available for free (or the courses can be taken for free in \"audit\" mode).\n",
        "\n",
        "There are many other quality free and paid resources available online, however, these are very good starting places. \n",
        "\n",
        "**Happy problem solving and coding - Enjoy!**\n"
      ],
      "metadata": {
        "id": "6cb6gTaBtIEd"
      }
    },
    {
      "cell_type": "markdown",
      "source": [
        "### Author\n",
        "\n",
        "```\n",
        "Dr. Michael J. Booth\n",
        "Founder, DataBooth\n",
        "michael@databooth.com.au\n",
        "```"
      ],
      "metadata": {
        "id": "9qkH2hiox4cK"
      }
    },
    {
      "cell_type": "markdown",
      "source": [
        "## Git a Repository\n",
        "\n",
        "If you're going to write some code, setup a free-tier `git` based respository to track your work. e.g. [GitHub.com](https://github.com), [GitLab.com](https://gitlab.com) or [BitBucket.org](https://bitbucket.org)."
      ],
      "metadata": {
        "id": "DiTBx6ToP_cf"
      }
    },
    {
      "cell_type": "markdown",
      "source": [
        "## Options\n",
        "\n",
        "So, in no particular order..."
      ],
      "metadata": {
        "id": "9loTU1vl0kWs"
      }
    },
    {
      "cell_type": "markdown",
      "source": [
        "## Google Colaboratory (hosted Jupyter notebooks)\n",
        "\n",
        "That's the platform that this document (notebook) is built with/hosted on. [Jupyter](https://jupyter.org) notebooks are a great/interactive way to learn.\n",
        "Google has plenty of resources to help you learn about using their complimentary, computational notebooks (their version of Jupyter notebooks).\n",
        "\n",
        "See their excellent introductory overview notebook [here](https://colab.research.google.com/notebooks/intro.ipynb)."
      ],
      "metadata": {
        "id": "4-KeXxXE_F6n"
      }
    },
    {
      "cell_type": "markdown",
      "source": [
        "## Replit.com (Game-ified approach)\n",
        "\n",
        "Replit provides a free, on-demand, collaborative, in-browser IDE to code in over 50 languages including Python. Consquently it does not require any explicit setup to get going which makes it a great platform for newbies with a gamified look and feel :)\n",
        "\n",
        "Create an account here [Replit.com](https://replit.com) and choose a Python project to get going.\n",
        "\n",
        "There are some Python specfic tutorials embedded within the learning materials on the platform."
      ],
      "metadata": {
        "id": "sZXaLcBhvYsq"
      }
    },
    {
      "cell_type": "markdown",
      "source": [
        "## IBM courses on Coursera\n",
        "\n",
        "[Python for Data Science, AI & Development](https://www.coursera.org/learn/python-for-applied-data-science-ai) this course can be done as part of a number of specialities - the following two courses look most relevant:\n",
        "- [Data Science Fundamentals with Python and SQL Specialization](https://www.coursera.org/specializations/data-science-fundamentals-python-sql)\n",
        "- [Data Engineering Foundations Specialization](https://www.coursera.org/specializations/data-engineering-foundations)\n",
        "\n",
        "If I'm being completely frank, it seems to me that _Data Engineering_ skills are likely to be in greater demand that _Data Science_ skills moving forward (as tools are attempting to commoditise much of the lower value data \"science\" work) - although there can be significant overlap between the two areas."
      ],
      "metadata": {
        "id": "bDp3dFaktVmm"
      }
    },
    {
      "cell_type": "markdown",
      "source": [
        "## Jose Portilla Udemy Courses - Two (low cost) paid options\n",
        "\n",
        "- [2022 Complete Python Bootcamp From Zero to Hero in Python](https://www.udemy.com/course/complete-python-bootcamp/)\n",
        "- [Python for Data Science and Machine Learning Bootcamp](https://www.udemy.com/course/python-for-data-science-and-machine-learning-bootcamp/)\n",
        "\n",
        "I learnt Python from the first of these two courses. Typically you can purchase them on Udemy at significant discount for around AUD $20."
      ],
      "metadata": {
        "id": "IAlmJaMAtweo"
      }
    },
    {
      "cell_type": "markdown",
      "source": [
        "## Tinkerstellar and Juno (options for iOS devices)\n",
        "\n",
        "If you own an iPad there are a couple of interesting learning resources. From my testing [Tinkerstellar](https://tinkerstellar.com) and companion app [Juno](https://juno.sh) feel very solid and are elegant - glossy magazine style notebooks.\n",
        "\n",
        "Tinkerstellar is an app that helps you learn coding and data science with interactive tutorials (or labs), where you can edit and run code examples straight away — no need to configure environments, download datasets or rely on networking connection to execute code. Just download a lab, and you’re ready to play around and experiment with code solving real-world problems of computational science 🚀.\n"
      ],
      "metadata": {
        "id": "OWb5PQS0ya1c"
      }
    },
    {
      "cell_type": "markdown",
      "source": [
        "## Articles\n",
        "\n",
        "### [Towards Data Science](https://towardsdatascience.com/about)\n",
        "\n",
        "- [9 Free Quality Resources to Learn and Expand Your Python Skills - Learn Python regardless of your technical background](https://towardsdatascience.com/9-free-quality-resources-to-learn-and-expand-your-python-skills-44e0fe920cf4)\n",
        "\n",
        "### [Medium](https://medium.com)\n",
        "\n",
        "- TODO: Add more references."
      ],
      "metadata": {
        "id": "gipbTOrlICSx"
      }
    },
    {
      "cell_type": "markdown",
      "source": [
        "_p.s. any suggestions, improvements, errors or typos please email me._"
      ],
      "metadata": {
        "id": "U5eG4iL-zr72"
      }
    },
    {
      "cell_type": "markdown",
      "source": [
        "---\n",
        "\n",
        "```\n",
        "\n",
        "```\n",
        "\n",
        "## Now for a simple example of loading, previewing and profiling data \n",
        "\n",
        "Some Python code to load some sample data from [NSW Open Data](https://www.data.nsw.gov.au)."
      ],
      "metadata": {
        "id": "uDUhvNEKAjhP"
      }
    },
    {
      "cell_type": "code",
      "source": [
        "# Sometimes needed to update the pre-installed version of pandas-profiling (uncomment and run if needed)\n",
        "#\n",
        "#pip install -U pandas-profiling"
      ],
      "metadata": {
        "id": "9hQ8rUrkNJwP"
      },
      "execution_count": 1,
      "outputs": []
    },
    {
      "cell_type": "code",
      "source": [
        "import pandas as pd  # Pandas is the usual library for doing structured data analysis\n",
        "from pandas_profiling import ProfileReport"
      ],
      "metadata": {
        "id": "cdVVDR99AiuT"
      },
      "execution_count": 2,
      "outputs": []
    },
    {
      "cell_type": "markdown",
      "source": [
        "### Example **PUBLIC** data set\n",
        "\n",
        "[COVID-19 cases by notification date and postcode, local health district, and local government area.csv (Discontinued)](https://data.nsw.gov.au/search/dataset/ds-nsw-ckan-aefcde60-3b0c-4bc0-9af1-6fe652944ec2/distribution/dist-nsw-ckan-21304414-1ff1-4243-a5d2-f52778048b29/details?q=)\n",
        "\n",
        "`TIP:` As far as possible, as good practice, keep real data out of your repository (especially any data with private information)."
      ],
      "metadata": {
        "id": "p7HJVoXMBSMG"
      }
    },
    {
      "cell_type": "code",
      "source": [
        "data_URL = \"https://data.nsw.gov.au/data/dataset/aefcde60-3b0c-4bc0-9af1-6fe652944ec2/resource/21304414-1ff1-4243-a5d2-f52778048b29/download/confirmed_cases_table1_location.csv\""
      ],
      "metadata": {
        "id": "TbRmjG3YBEC1"
      },
      "execution_count": 3,
      "outputs": []
    },
    {
      "cell_type": "code",
      "source": [
        "# Look at first 5 lines of .csv data file\n",
        "# Example of using Unix command line from within notebook (note the use of '!' before the actual command)\n",
        "\n",
        "!curl -s $data_URL | head -n 5"
      ],
      "metadata": {
        "colab": {
          "base_uri": "https://localhost:8080/"
        },
        "id": "Xnc_UsP6Kj8y",
        "outputId": "d831ac2f-3c9b-4945-fb62-0c1ab280e9c9"
      },
      "execution_count": 4,
      "outputs": [
        {
          "output_type": "stream",
          "name": "stdout",
          "text": [
            "notification_date,postcode,lhd_2010_code,lhd_2010_name,lga_code19,lga_name19\n",
            "2020-01-25,2134,X700,Sydney,11300,Burwood (A)\n",
            "2020-01-25,2121,X760,Northern Sydney,16260,Parramatta (C)\n",
            "2020-01-25,2071,X760,Northern Sydney,14500,Ku-ring-gai (A)\n",
            "2020-01-27,2033,X720,South Eastern Sydney,16550,Randwick (C)\n"
          ]
        }
      ]
    },
    {
      "cell_type": "code",
      "source": [
        "# Load data into a pandas dataframe\n",
        "\n",
        "data_df = pd.read_csv(data_URL)"
      ],
      "metadata": {
        "id": "8GRAWbqdBcxS"
      },
      "execution_count": 5,
      "outputs": []
    },
    {
      "cell_type": "code",
      "source": [
        "data_df.columns.to_list()"
      ],
      "metadata": {
        "colab": {
          "base_uri": "https://localhost:8080/"
        },
        "id": "bDOyvmvtL0ez",
        "outputId": "b63196b2-c75b-4cfb-d700-9ad9eb8239ad"
      },
      "execution_count": 6,
      "outputs": [
        {
          "output_type": "execute_result",
          "data": {
            "text/plain": [
              "['notification_date',\n",
              " 'postcode',\n",
              " 'lhd_2010_code',\n",
              " 'lhd_2010_name',\n",
              " 'lga_code19',\n",
              " 'lga_name19']"
            ]
          },
          "metadata": {},
          "execution_count": 6
        }
      ]
    },
    {
      "cell_type": "code",
      "source": [
        "data_df.head()"
      ],
      "metadata": {
        "colab": {
          "base_uri": "https://localhost:8080/",
          "height": 204
        },
        "id": "808dayNXBjQs",
        "outputId": "7c2aeed7-2eb4-4568-f066-8c5fba2b2892"
      },
      "execution_count": 7,
      "outputs": [
        {
          "output_type": "execute_result",
          "data": {
            "text/plain": [
              "  notification_date postcode lhd_2010_code         lhd_2010_name lga_code19  \\\n",
              "0        2020-01-25     2134          X700                Sydney      11300   \n",
              "1        2020-01-25     2121          X760       Northern Sydney      16260   \n",
              "2        2020-01-25     2071          X760       Northern Sydney      14500   \n",
              "3        2020-01-27     2033          X720  South Eastern Sydney      16550   \n",
              "4        2020-03-01     2077          X760       Northern Sydney      14000   \n",
              "\n",
              "        lga_name19  \n",
              "0      Burwood (A)  \n",
              "1   Parramatta (C)  \n",
              "2  Ku-ring-gai (A)  \n",
              "3     Randwick (C)  \n",
              "4      Hornsby (A)  "
            ],
            "text/html": [
              "\n",
              "  <div id=\"df-505193c4-aff1-45b8-b0ab-3c6d218d0425\">\n",
              "    <div class=\"colab-df-container\">\n",
              "      <div>\n",
              "<style scoped>\n",
              "    .dataframe tbody tr th:only-of-type {\n",
              "        vertical-align: middle;\n",
              "    }\n",
              "\n",
              "    .dataframe tbody tr th {\n",
              "        vertical-align: top;\n",
              "    }\n",
              "\n",
              "    .dataframe thead th {\n",
              "        text-align: right;\n",
              "    }\n",
              "</style>\n",
              "<table border=\"1\" class=\"dataframe\">\n",
              "  <thead>\n",
              "    <tr style=\"text-align: right;\">\n",
              "      <th></th>\n",
              "      <th>notification_date</th>\n",
              "      <th>postcode</th>\n",
              "      <th>lhd_2010_code</th>\n",
              "      <th>lhd_2010_name</th>\n",
              "      <th>lga_code19</th>\n",
              "      <th>lga_name19</th>\n",
              "    </tr>\n",
              "  </thead>\n",
              "  <tbody>\n",
              "    <tr>\n",
              "      <th>0</th>\n",
              "      <td>2020-01-25</td>\n",
              "      <td>2134</td>\n",
              "      <td>X700</td>\n",
              "      <td>Sydney</td>\n",
              "      <td>11300</td>\n",
              "      <td>Burwood (A)</td>\n",
              "    </tr>\n",
              "    <tr>\n",
              "      <th>1</th>\n",
              "      <td>2020-01-25</td>\n",
              "      <td>2121</td>\n",
              "      <td>X760</td>\n",
              "      <td>Northern Sydney</td>\n",
              "      <td>16260</td>\n",
              "      <td>Parramatta (C)</td>\n",
              "    </tr>\n",
              "    <tr>\n",
              "      <th>2</th>\n",
              "      <td>2020-01-25</td>\n",
              "      <td>2071</td>\n",
              "      <td>X760</td>\n",
              "      <td>Northern Sydney</td>\n",
              "      <td>14500</td>\n",
              "      <td>Ku-ring-gai (A)</td>\n",
              "    </tr>\n",
              "    <tr>\n",
              "      <th>3</th>\n",
              "      <td>2020-01-27</td>\n",
              "      <td>2033</td>\n",
              "      <td>X720</td>\n",
              "      <td>South Eastern Sydney</td>\n",
              "      <td>16550</td>\n",
              "      <td>Randwick (C)</td>\n",
              "    </tr>\n",
              "    <tr>\n",
              "      <th>4</th>\n",
              "      <td>2020-03-01</td>\n",
              "      <td>2077</td>\n",
              "      <td>X760</td>\n",
              "      <td>Northern Sydney</td>\n",
              "      <td>14000</td>\n",
              "      <td>Hornsby (A)</td>\n",
              "    </tr>\n",
              "  </tbody>\n",
              "</table>\n",
              "</div>\n",
              "      <button class=\"colab-df-convert\" onclick=\"convertToInteractive('df-505193c4-aff1-45b8-b0ab-3c6d218d0425')\"\n",
              "              title=\"Convert this dataframe to an interactive table.\"\n",
              "              style=\"display:none;\">\n",
              "        \n",
              "  <svg xmlns=\"http://www.w3.org/2000/svg\" height=\"24px\"viewBox=\"0 0 24 24\"\n",
              "       width=\"24px\">\n",
              "    <path d=\"M0 0h24v24H0V0z\" fill=\"none\"/>\n",
              "    <path d=\"M18.56 5.44l.94 2.06.94-2.06 2.06-.94-2.06-.94-.94-2.06-.94 2.06-2.06.94zm-11 1L8.5 8.5l.94-2.06 2.06-.94-2.06-.94L8.5 2.5l-.94 2.06-2.06.94zm10 10l.94 2.06.94-2.06 2.06-.94-2.06-.94-.94-2.06-.94 2.06-2.06.94z\"/><path d=\"M17.41 7.96l-1.37-1.37c-.4-.4-.92-.59-1.43-.59-.52 0-1.04.2-1.43.59L10.3 9.45l-7.72 7.72c-.78.78-.78 2.05 0 2.83L4 21.41c.39.39.9.59 1.41.59.51 0 1.02-.2 1.41-.59l7.78-7.78 2.81-2.81c.8-.78.8-2.07 0-2.86zM5.41 20L4 18.59l7.72-7.72 1.47 1.35L5.41 20z\"/>\n",
              "  </svg>\n",
              "      </button>\n",
              "      \n",
              "  <style>\n",
              "    .colab-df-container {\n",
              "      display:flex;\n",
              "      flex-wrap:wrap;\n",
              "      gap: 12px;\n",
              "    }\n",
              "\n",
              "    .colab-df-convert {\n",
              "      background-color: #E8F0FE;\n",
              "      border: none;\n",
              "      border-radius: 50%;\n",
              "      cursor: pointer;\n",
              "      display: none;\n",
              "      fill: #1967D2;\n",
              "      height: 32px;\n",
              "      padding: 0 0 0 0;\n",
              "      width: 32px;\n",
              "    }\n",
              "\n",
              "    .colab-df-convert:hover {\n",
              "      background-color: #E2EBFA;\n",
              "      box-shadow: 0px 1px 2px rgba(60, 64, 67, 0.3), 0px 1px 3px 1px rgba(60, 64, 67, 0.15);\n",
              "      fill: #174EA6;\n",
              "    }\n",
              "\n",
              "    [theme=dark] .colab-df-convert {\n",
              "      background-color: #3B4455;\n",
              "      fill: #D2E3FC;\n",
              "    }\n",
              "\n",
              "    [theme=dark] .colab-df-convert:hover {\n",
              "      background-color: #434B5C;\n",
              "      box-shadow: 0px 1px 3px 1px rgba(0, 0, 0, 0.15);\n",
              "      filter: drop-shadow(0px 1px 2px rgba(0, 0, 0, 0.3));\n",
              "      fill: #FFFFFF;\n",
              "    }\n",
              "  </style>\n",
              "\n",
              "      <script>\n",
              "        const buttonEl =\n",
              "          document.querySelector('#df-505193c4-aff1-45b8-b0ab-3c6d218d0425 button.colab-df-convert');\n",
              "        buttonEl.style.display =\n",
              "          google.colab.kernel.accessAllowed ? 'block' : 'none';\n",
              "\n",
              "        async function convertToInteractive(key) {\n",
              "          const element = document.querySelector('#df-505193c4-aff1-45b8-b0ab-3c6d218d0425');\n",
              "          const dataTable =\n",
              "            await google.colab.kernel.invokeFunction('convertToInteractive',\n",
              "                                                     [key], {});\n",
              "          if (!dataTable) return;\n",
              "\n",
              "          const docLinkHtml = 'Like what you see? Visit the ' +\n",
              "            '<a target=\"_blank\" href=https://colab.research.google.com/notebooks/data_table.ipynb>data table notebook</a>'\n",
              "            + ' to learn more about interactive tables.';\n",
              "          element.innerHTML = '';\n",
              "          dataTable['output_type'] = 'display_data';\n",
              "          await google.colab.output.renderOutput(dataTable, element);\n",
              "          const docLink = document.createElement('div');\n",
              "          docLink.innerHTML = docLinkHtml;\n",
              "          element.appendChild(docLink);\n",
              "        }\n",
              "      </script>\n",
              "    </div>\n",
              "  </div>\n",
              "  "
            ]
          },
          "metadata": {},
          "execution_count": 7
        }
      ]
    },
    {
      "cell_type": "code",
      "source": [
        "data_df['postcode'].nunique()"
      ],
      "metadata": {
        "colab": {
          "base_uri": "https://localhost:8080/"
        },
        "id": "27mqtsgTBmB8",
        "outputId": "b9889b97-a7ac-4014-d0cb-b6cabd8fccfc"
      },
      "execution_count": 8,
      "outputs": [
        {
          "output_type": "execute_result",
          "data": {
            "text/plain": [
              "765"
            ]
          },
          "metadata": {},
          "execution_count": 8
        }
      ]
    },
    {
      "cell_type": "code",
      "source": [
        "data_df.describe()"
      ],
      "metadata": {
        "colab": {
          "base_uri": "https://localhost:8080/",
          "height": 173
        },
        "id": "jxFP6no_CMGM",
        "outputId": "9dbc4db7-b50f-4623-94e8-0d881a953bc4"
      },
      "execution_count": 9,
      "outputs": [
        {
          "output_type": "execute_result",
          "data": {
            "text/plain": [
              "       notification_date postcode lhd_2010_code         lhd_2010_name  \\\n",
              "count             973412   973412        959365                959365   \n",
              "unique               686      765            17                    17   \n",
              "top           2022-01-06     2170          X710  South Western Sydney   \n",
              "freq               41338    19158        167966                167966   \n",
              "\n",
              "       lga_code19                lga_name19  \n",
              "count      959279                    959279  \n",
              "unique        130                       130  \n",
              "top         11570  Canterbury-Bankstown (A)  \n",
              "freq        68654                     68654  "
            ],
            "text/html": [
              "\n",
              "  <div id=\"df-da30980a-58b5-487b-b52c-80a5eeffbfa6\">\n",
              "    <div class=\"colab-df-container\">\n",
              "      <div>\n",
              "<style scoped>\n",
              "    .dataframe tbody tr th:only-of-type {\n",
              "        vertical-align: middle;\n",
              "    }\n",
              "\n",
              "    .dataframe tbody tr th {\n",
              "        vertical-align: top;\n",
              "    }\n",
              "\n",
              "    .dataframe thead th {\n",
              "        text-align: right;\n",
              "    }\n",
              "</style>\n",
              "<table border=\"1\" class=\"dataframe\">\n",
              "  <thead>\n",
              "    <tr style=\"text-align: right;\">\n",
              "      <th></th>\n",
              "      <th>notification_date</th>\n",
              "      <th>postcode</th>\n",
              "      <th>lhd_2010_code</th>\n",
              "      <th>lhd_2010_name</th>\n",
              "      <th>lga_code19</th>\n",
              "      <th>lga_name19</th>\n",
              "    </tr>\n",
              "  </thead>\n",
              "  <tbody>\n",
              "    <tr>\n",
              "      <th>count</th>\n",
              "      <td>973412</td>\n",
              "      <td>973412</td>\n",
              "      <td>959365</td>\n",
              "      <td>959365</td>\n",
              "      <td>959279</td>\n",
              "      <td>959279</td>\n",
              "    </tr>\n",
              "    <tr>\n",
              "      <th>unique</th>\n",
              "      <td>686</td>\n",
              "      <td>765</td>\n",
              "      <td>17</td>\n",
              "      <td>17</td>\n",
              "      <td>130</td>\n",
              "      <td>130</td>\n",
              "    </tr>\n",
              "    <tr>\n",
              "      <th>top</th>\n",
              "      <td>2022-01-06</td>\n",
              "      <td>2170</td>\n",
              "      <td>X710</td>\n",
              "      <td>South Western Sydney</td>\n",
              "      <td>11570</td>\n",
              "      <td>Canterbury-Bankstown (A)</td>\n",
              "    </tr>\n",
              "    <tr>\n",
              "      <th>freq</th>\n",
              "      <td>41338</td>\n",
              "      <td>19158</td>\n",
              "      <td>167966</td>\n",
              "      <td>167966</td>\n",
              "      <td>68654</td>\n",
              "      <td>68654</td>\n",
              "    </tr>\n",
              "  </tbody>\n",
              "</table>\n",
              "</div>\n",
              "      <button class=\"colab-df-convert\" onclick=\"convertToInteractive('df-da30980a-58b5-487b-b52c-80a5eeffbfa6')\"\n",
              "              title=\"Convert this dataframe to an interactive table.\"\n",
              "              style=\"display:none;\">\n",
              "        \n",
              "  <svg xmlns=\"http://www.w3.org/2000/svg\" height=\"24px\"viewBox=\"0 0 24 24\"\n",
              "       width=\"24px\">\n",
              "    <path d=\"M0 0h24v24H0V0z\" fill=\"none\"/>\n",
              "    <path d=\"M18.56 5.44l.94 2.06.94-2.06 2.06-.94-2.06-.94-.94-2.06-.94 2.06-2.06.94zm-11 1L8.5 8.5l.94-2.06 2.06-.94-2.06-.94L8.5 2.5l-.94 2.06-2.06.94zm10 10l.94 2.06.94-2.06 2.06-.94-2.06-.94-.94-2.06-.94 2.06-2.06.94z\"/><path d=\"M17.41 7.96l-1.37-1.37c-.4-.4-.92-.59-1.43-.59-.52 0-1.04.2-1.43.59L10.3 9.45l-7.72 7.72c-.78.78-.78 2.05 0 2.83L4 21.41c.39.39.9.59 1.41.59.51 0 1.02-.2 1.41-.59l7.78-7.78 2.81-2.81c.8-.78.8-2.07 0-2.86zM5.41 20L4 18.59l7.72-7.72 1.47 1.35L5.41 20z\"/>\n",
              "  </svg>\n",
              "      </button>\n",
              "      \n",
              "  <style>\n",
              "    .colab-df-container {\n",
              "      display:flex;\n",
              "      flex-wrap:wrap;\n",
              "      gap: 12px;\n",
              "    }\n",
              "\n",
              "    .colab-df-convert {\n",
              "      background-color: #E8F0FE;\n",
              "      border: none;\n",
              "      border-radius: 50%;\n",
              "      cursor: pointer;\n",
              "      display: none;\n",
              "      fill: #1967D2;\n",
              "      height: 32px;\n",
              "      padding: 0 0 0 0;\n",
              "      width: 32px;\n",
              "    }\n",
              "\n",
              "    .colab-df-convert:hover {\n",
              "      background-color: #E2EBFA;\n",
              "      box-shadow: 0px 1px 2px rgba(60, 64, 67, 0.3), 0px 1px 3px 1px rgba(60, 64, 67, 0.15);\n",
              "      fill: #174EA6;\n",
              "    }\n",
              "\n",
              "    [theme=dark] .colab-df-convert {\n",
              "      background-color: #3B4455;\n",
              "      fill: #D2E3FC;\n",
              "    }\n",
              "\n",
              "    [theme=dark] .colab-df-convert:hover {\n",
              "      background-color: #434B5C;\n",
              "      box-shadow: 0px 1px 3px 1px rgba(0, 0, 0, 0.15);\n",
              "      filter: drop-shadow(0px 1px 2px rgba(0, 0, 0, 0.3));\n",
              "      fill: #FFFFFF;\n",
              "    }\n",
              "  </style>\n",
              "\n",
              "      <script>\n",
              "        const buttonEl =\n",
              "          document.querySelector('#df-da30980a-58b5-487b-b52c-80a5eeffbfa6 button.colab-df-convert');\n",
              "        buttonEl.style.display =\n",
              "          google.colab.kernel.accessAllowed ? 'block' : 'none';\n",
              "\n",
              "        async function convertToInteractive(key) {\n",
              "          const element = document.querySelector('#df-da30980a-58b5-487b-b52c-80a5eeffbfa6');\n",
              "          const dataTable =\n",
              "            await google.colab.kernel.invokeFunction('convertToInteractive',\n",
              "                                                     [key], {});\n",
              "          if (!dataTable) return;\n",
              "\n",
              "          const docLinkHtml = 'Like what you see? Visit the ' +\n",
              "            '<a target=\"_blank\" href=https://colab.research.google.com/notebooks/data_table.ipynb>data table notebook</a>'\n",
              "            + ' to learn more about interactive tables.';\n",
              "          element.innerHTML = '';\n",
              "          dataTable['output_type'] = 'display_data';\n",
              "          await google.colab.output.renderOutput(dataTable, element);\n",
              "          const docLink = document.createElement('div');\n",
              "          docLink.innerHTML = docLinkHtml;\n",
              "          element.appendChild(docLink);\n",
              "        }\n",
              "      </script>\n",
              "    </div>\n",
              "  </div>\n",
              "  "
            ]
          },
          "metadata": {},
          "execution_count": 9
        }
      ]
    },
    {
      "cell_type": "code",
      "source": [
        "data_df.tail(5)"
      ],
      "metadata": {
        "colab": {
          "base_uri": "https://localhost:8080/",
          "height": 204
        },
        "id": "V--URny8CTor",
        "outputId": "28f6e7eb-46ac-4fba-b081-ba64dec264a5"
      },
      "execution_count": 10,
      "outputs": [
        {
          "output_type": "execute_result",
          "data": {
            "text/plain": [
              "       notification_date postcode lhd_2010_code          lhd_2010_name  \\\n",
              "973407        2022-02-07     2283          X800     Hunter New England   \n",
              "973408        2022-02-07     2019          X720   South Eastern Sydney   \n",
              "973409        2022-02-07     2076          X760        Northern Sydney   \n",
              "973410        2022-02-07     2760          X750  Nepean Blue Mountains   \n",
              "973411        2022-02-07     2066          X760        Northern Sydney   \n",
              "\n",
              "       lga_code19          lga_name19  \n",
              "973407      14650  Lake Macquarie (C)  \n",
              "973408      10500         Bayside (A)  \n",
              "973409      14500     Ku-ring-gai (A)  \n",
              "973410      16350         Penrith (C)  \n",
              "973411      14700       Lane Cove (A)  "
            ],
            "text/html": [
              "\n",
              "  <div id=\"df-bd6cf97c-63c2-4c2e-874f-f6c45b1b0d7d\">\n",
              "    <div class=\"colab-df-container\">\n",
              "      <div>\n",
              "<style scoped>\n",
              "    .dataframe tbody tr th:only-of-type {\n",
              "        vertical-align: middle;\n",
              "    }\n",
              "\n",
              "    .dataframe tbody tr th {\n",
              "        vertical-align: top;\n",
              "    }\n",
              "\n",
              "    .dataframe thead th {\n",
              "        text-align: right;\n",
              "    }\n",
              "</style>\n",
              "<table border=\"1\" class=\"dataframe\">\n",
              "  <thead>\n",
              "    <tr style=\"text-align: right;\">\n",
              "      <th></th>\n",
              "      <th>notification_date</th>\n",
              "      <th>postcode</th>\n",
              "      <th>lhd_2010_code</th>\n",
              "      <th>lhd_2010_name</th>\n",
              "      <th>lga_code19</th>\n",
              "      <th>lga_name19</th>\n",
              "    </tr>\n",
              "  </thead>\n",
              "  <tbody>\n",
              "    <tr>\n",
              "      <th>973407</th>\n",
              "      <td>2022-02-07</td>\n",
              "      <td>2283</td>\n",
              "      <td>X800</td>\n",
              "      <td>Hunter New England</td>\n",
              "      <td>14650</td>\n",
              "      <td>Lake Macquarie (C)</td>\n",
              "    </tr>\n",
              "    <tr>\n",
              "      <th>973408</th>\n",
              "      <td>2022-02-07</td>\n",
              "      <td>2019</td>\n",
              "      <td>X720</td>\n",
              "      <td>South Eastern Sydney</td>\n",
              "      <td>10500</td>\n",
              "      <td>Bayside (A)</td>\n",
              "    </tr>\n",
              "    <tr>\n",
              "      <th>973409</th>\n",
              "      <td>2022-02-07</td>\n",
              "      <td>2076</td>\n",
              "      <td>X760</td>\n",
              "      <td>Northern Sydney</td>\n",
              "      <td>14500</td>\n",
              "      <td>Ku-ring-gai (A)</td>\n",
              "    </tr>\n",
              "    <tr>\n",
              "      <th>973410</th>\n",
              "      <td>2022-02-07</td>\n",
              "      <td>2760</td>\n",
              "      <td>X750</td>\n",
              "      <td>Nepean Blue Mountains</td>\n",
              "      <td>16350</td>\n",
              "      <td>Penrith (C)</td>\n",
              "    </tr>\n",
              "    <tr>\n",
              "      <th>973411</th>\n",
              "      <td>2022-02-07</td>\n",
              "      <td>2066</td>\n",
              "      <td>X760</td>\n",
              "      <td>Northern Sydney</td>\n",
              "      <td>14700</td>\n",
              "      <td>Lane Cove (A)</td>\n",
              "    </tr>\n",
              "  </tbody>\n",
              "</table>\n",
              "</div>\n",
              "      <button class=\"colab-df-convert\" onclick=\"convertToInteractive('df-bd6cf97c-63c2-4c2e-874f-f6c45b1b0d7d')\"\n",
              "              title=\"Convert this dataframe to an interactive table.\"\n",
              "              style=\"display:none;\">\n",
              "        \n",
              "  <svg xmlns=\"http://www.w3.org/2000/svg\" height=\"24px\"viewBox=\"0 0 24 24\"\n",
              "       width=\"24px\">\n",
              "    <path d=\"M0 0h24v24H0V0z\" fill=\"none\"/>\n",
              "    <path d=\"M18.56 5.44l.94 2.06.94-2.06 2.06-.94-2.06-.94-.94-2.06-.94 2.06-2.06.94zm-11 1L8.5 8.5l.94-2.06 2.06-.94-2.06-.94L8.5 2.5l-.94 2.06-2.06.94zm10 10l.94 2.06.94-2.06 2.06-.94-2.06-.94-.94-2.06-.94 2.06-2.06.94z\"/><path d=\"M17.41 7.96l-1.37-1.37c-.4-.4-.92-.59-1.43-.59-.52 0-1.04.2-1.43.59L10.3 9.45l-7.72 7.72c-.78.78-.78 2.05 0 2.83L4 21.41c.39.39.9.59 1.41.59.51 0 1.02-.2 1.41-.59l7.78-7.78 2.81-2.81c.8-.78.8-2.07 0-2.86zM5.41 20L4 18.59l7.72-7.72 1.47 1.35L5.41 20z\"/>\n",
              "  </svg>\n",
              "      </button>\n",
              "      \n",
              "  <style>\n",
              "    .colab-df-container {\n",
              "      display:flex;\n",
              "      flex-wrap:wrap;\n",
              "      gap: 12px;\n",
              "    }\n",
              "\n",
              "    .colab-df-convert {\n",
              "      background-color: #E8F0FE;\n",
              "      border: none;\n",
              "      border-radius: 50%;\n",
              "      cursor: pointer;\n",
              "      display: none;\n",
              "      fill: #1967D2;\n",
              "      height: 32px;\n",
              "      padding: 0 0 0 0;\n",
              "      width: 32px;\n",
              "    }\n",
              "\n",
              "    .colab-df-convert:hover {\n",
              "      background-color: #E2EBFA;\n",
              "      box-shadow: 0px 1px 2px rgba(60, 64, 67, 0.3), 0px 1px 3px 1px rgba(60, 64, 67, 0.15);\n",
              "      fill: #174EA6;\n",
              "    }\n",
              "\n",
              "    [theme=dark] .colab-df-convert {\n",
              "      background-color: #3B4455;\n",
              "      fill: #D2E3FC;\n",
              "    }\n",
              "\n",
              "    [theme=dark] .colab-df-convert:hover {\n",
              "      background-color: #434B5C;\n",
              "      box-shadow: 0px 1px 3px 1px rgba(0, 0, 0, 0.15);\n",
              "      filter: drop-shadow(0px 1px 2px rgba(0, 0, 0, 0.3));\n",
              "      fill: #FFFFFF;\n",
              "    }\n",
              "  </style>\n",
              "\n",
              "      <script>\n",
              "        const buttonEl =\n",
              "          document.querySelector('#df-bd6cf97c-63c2-4c2e-874f-f6c45b1b0d7d button.colab-df-convert');\n",
              "        buttonEl.style.display =\n",
              "          google.colab.kernel.accessAllowed ? 'block' : 'none';\n",
              "\n",
              "        async function convertToInteractive(key) {\n",
              "          const element = document.querySelector('#df-bd6cf97c-63c2-4c2e-874f-f6c45b1b0d7d');\n",
              "          const dataTable =\n",
              "            await google.colab.kernel.invokeFunction('convertToInteractive',\n",
              "                                                     [key], {});\n",
              "          if (!dataTable) return;\n",
              "\n",
              "          const docLinkHtml = 'Like what you see? Visit the ' +\n",
              "            '<a target=\"_blank\" href=https://colab.research.google.com/notebooks/data_table.ipynb>data table notebook</a>'\n",
              "            + ' to learn more about interactive tables.';\n",
              "          element.innerHTML = '';\n",
              "          dataTable['output_type'] = 'display_data';\n",
              "          await google.colab.output.renderOutput(dataTable, element);\n",
              "          const docLink = document.createElement('div');\n",
              "          docLink.innerHTML = docLinkHtml;\n",
              "          element.appendChild(docLink);\n",
              "        }\n",
              "      </script>\n",
              "    </div>\n",
              "  </div>\n",
              "  "
            ]
          },
          "metadata": {},
          "execution_count": 10
        }
      ]
    },
    {
      "cell_type": "code",
      "source": [
        "data_df.dtypes"
      ],
      "metadata": {
        "id": "LFTADMaACZ38",
        "colab": {
          "base_uri": "https://localhost:8080/"
        },
        "outputId": "3fcdd9ec-adf1-420d-a216-89aa9010c320"
      },
      "execution_count": 11,
      "outputs": [
        {
          "output_type": "execute_result",
          "data": {
            "text/plain": [
              "notification_date    object\n",
              "postcode             object\n",
              "lhd_2010_code        object\n",
              "lhd_2010_name        object\n",
              "lga_code19           object\n",
              "lga_name19           object\n",
              "dtype: object"
            ]
          },
          "metadata": {},
          "execution_count": 11
        }
      ]
    },
    {
      "cell_type": "markdown",
      "source": [
        "### Pandas Data Profiling Report\n",
        "\n",
        "[Pandas Profiling](https://pandas-profiling.ydata.ai/docs/master/index.html) is a handy library for doing initial exploratory data analysis (EDA) on data in a [pandas dataframe](https://pandas.pydata.org/docs/reference/api/pandas.DataFrame.html).\n",
        "\n",
        "*Uncomment the following line to execute it. It takes ~15-20 seconds to run on this size dataset (progress bars show where the analysis is up to).*"
      ],
      "metadata": {
        "id": "zuq0_tUUMQay"
      }
    },
    {
      "cell_type": "code",
      "source": [
        "# ProfileReport(data_df, title=\"Demo: NSW COVID data\", correlations=None).to_notebook_iframe();"
      ],
      "metadata": {
        "id": "NT9wBzigKeSA"
      },
      "execution_count": 12,
      "outputs": []
    }
  ]
}